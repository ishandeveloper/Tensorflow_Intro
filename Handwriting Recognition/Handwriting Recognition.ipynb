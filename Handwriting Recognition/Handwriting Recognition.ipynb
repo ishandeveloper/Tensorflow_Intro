{
 "cells": [
  {
   "cell_type": "markdown",
   "metadata": {},
   "source": [
    "# Handwriting Recognition\n",
    "\n",
    "A handwriting recognition model based on MNIST data"
   ]
  },
  {
   "cell_type": "markdown",
   "metadata": {},
   "source": [
    "Getting dependencies"
   ]
  },
  {
   "cell_type": "code",
   "execution_count": 1,
   "metadata": {},
   "outputs": [],
   "source": [
    "import tensorflow as tf"
   ]
  },
  {
   "cell_type": "markdown",
   "metadata": {},
   "source": [
    "Creating train_mnist function"
   ]
  },
  {
   "cell_type": "code",
   "execution_count": 2,
   "metadata": {},
   "outputs": [],
   "source": [
    "def train_mnist():\n",
    "    mnist = tf.keras.datasets.mnist\n",
    "\n",
    "    (x_train, y_train),(x_test, y_test) = mnist.load_data()\n",
    "\n",
    "    x_train, x_test = x_train / 255.0, x_test / 255.0\n",
    "\n",
    "    model = tf.keras.models.Sequential([\n",
    "\n",
    "      tf.keras.layers.Flatten(input_shape=(28, 28)),\n",
    "      tf.keras.layers.Dense(512, activation=tf.nn.relu),\n",
    "      tf.keras.layers.Dense(10, activation=tf.nn.softmax)\n",
    "\n",
    "    ])\n",
    "\n",
    "    model.compile(optimizer='adam',\n",
    "                  loss='sparse_categorical_crossentropy',\n",
    "                  metrics=['accuracy'])\n",
    "    \n",
    "    history = model.fit(x_train, y_train, epochs=10)"
   ]
  },
  {
   "cell_type": "markdown",
   "metadata": {},
   "source": [
    "Evaluating Our Model By Running Above Function"
   ]
  },
  {
   "cell_type": "code",
   "execution_count": 15,
   "metadata": {},
   "outputs": [
    {
     "name": "stdout",
     "output_type": "stream",
     "text": [
      "Epoch 1/10\n",
      "60000/60000 [==============================] - 11s 179us/sample - loss: 0.2005 - accuracy: 0.9412\n",
      "Epoch 2/10\n",
      "60000/60000 [==============================] - 10s 166us/sample - loss: 0.0788 - accuracy: 0.9761\n",
      "Epoch 3/10\n",
      "60000/60000 [==============================] - 8s 139us/sample - loss: 0.0525 - accuracy: 0.9833\n",
      "Epoch 4/10\n",
      "60000/60000 [==============================] - 9s 149us/sample - loss: 0.0369 - accuracy: 0.9884\n",
      "Epoch 5/10\n",
      "60000/60000 [==============================] - 10s 166us/sample - loss: 0.0276 - accuracy: 0.9912\n",
      "Epoch 6/10\n",
      "60000/60000 [==============================] - 10s 170us/sample - loss: 0.0203 - accuracy: 0.9934\n",
      "Epoch 7/10\n",
      "60000/60000 [==============================] - 9s 143us/sample - loss: 0.0180 - accuracy: 0.9940\n",
      "Epoch 8/10\n",
      "60000/60000 [==============================] - 10s 169us/sample - loss: 0.0156 - accuracy: 0.9945\n",
      "Epoch 9/10\n",
      "60000/60000 [==============================] - 9s 153us/sample - loss: 0.0112 - accuracy: 0.9962\n",
      "Epoch 10/10\n",
      "60000/60000 [==============================] - 9s 147us/sample - loss: 0.0113 - accuracy: 0.9962\n"
     ]
    }
   ],
   "source": [
    "train_mnist()"
   ]
  }
 ],
 "metadata": {
  "kernelspec": {
   "display_name": "Python 3",
   "language": "python",
   "name": "python3"
  },
  "language_info": {
   "codemirror_mode": {
    "name": "ipython",
    "version": 3
   },
   "file_extension": ".py",
   "mimetype": "text/x-python",
   "name": "python",
   "nbconvert_exporter": "python",
   "pygments_lexer": "ipython3",
   "version": "3.7.6"
  }
 },
 "nbformat": 4,
 "nbformat_minor": 4
}
