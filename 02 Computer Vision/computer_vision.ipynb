{
 "cells": [
  {
   "cell_type": "markdown",
   "metadata": {},
   "source": [
    "# Computer Vision\n",
    "#### Author : ishandeveloper\n",
    "Computer vision is the field of having a computer understand and label what is present in an image.\n",
    "\n",
    "One way to achieve this is to use lots of pictures of clothing and tell the computer what that's a picture of and then have the computer figure out the patterns that give you the difference between a shoe, and a shirt, and a handbag, and a coat for example. That's what we're going to learn how to do in this section. "
   ]
  },
  {
   "cell_type": "markdown",
   "metadata": {},
   "source": [
    "#### Getting Dependencies"
   ]
  },
  {
   "cell_type": "code",
   "execution_count": 2,
   "metadata": {},
   "outputs": [],
   "source": [
    "import tensorflow as tf\n",
    "import numpy as np\n",
    "from tensorflow import keras"
   ]
  },
  {
   "cell_type": "markdown",
   "metadata": {},
   "source": [
    "We'll be using <b>'Fashion MNIST dataset'</b> for this, which contains more than 70,000 images of clothes categorized into different items such as shirts, shoes etc. each scaled down to a resolution of 28x28 pixels"
   ]
  },
  {
   "cell_type": "code",
   "execution_count": 5,
   "metadata": {
    "scrolled": true
   },
   "outputs": [],
   "source": [
    "fashion_mnist = keras.datasets.fashion_mnist\n",
    "(train_images, train_labels), (test_images, test_labels) = fashion_mnist.load_data()"
   ]
  },
  {
   "cell_type": "markdown",
   "metadata": {},
   "source": [
    "↑ Importing MNIST dataset using Tensorflow API Call"
   ]
  },
  {
   "cell_type": "markdown",
   "metadata": {},
   "source": [
    "     "
   ]
  },
  {
   "cell_type": "code",
   "execution_count": 36,
   "metadata": {},
   "outputs": [],
   "source": [
    "model = keras.Sequential([\n",
    "    keras.layers.Flatten(input_shape=(28,28)),\n",
    "    keras.layers.Dense(128, activation=tf.nn.relu ),\n",
    "    keras.layers.Dense(10,  activation=tf.nn.softmax)\n",
    "]) "
   ]
  },
  {
   "cell_type": "markdown",
   "metadata": {},
   "source": [
    "↑ Now we have three layers. The important things to look at are the first and the last layers. The last layer has 10 neurons in it because we have ten classes of clothing in the dataset. They should always match. The first layer is a flatten layer with the input shaping 28 by 28. Now, if you remember our images are 28 by 28, so we're specifying that this is the shape that we should expect the data to be in. Flatten takes this 28 by 28 square and turns it into a simple linear array. The interesting stuff happens in the middle layer, sometimes also called a hidden layer. This is a 128 neurons in it, and I'd like you to think about these as variables in a function. Maybe call them x1, x2 x3, etc. Now, there exists a rule that incorporates all of these that turns the 784 values of an ankle boot into the value nine, and similar for all of the other 70,000. "
   ]
  },
  {
   "cell_type": "markdown",
   "metadata": {},
   "source": [
    "Sequential: That defines a SEQUENCE of layers in the neural network\n",
    "\n",
    "Flatten: Remember earlier where our images were a square, when you printed them out? Flatten just takes that square and turns it into a 1 dimensional set.\n",
    "\n",
    "Dense: Adds a layer of neurons\n",
    "\n",
    "Each layer of neurons need an activation function to tell them what to do. There's lots of options, but just use these for now.\n",
    "\n",
    "Relu effectively means \"If X>0 return X, else return 0\" -- so what it does it it only passes values 0 or greater to the next layer in the network.\n",
    "\n",
    "Softmax takes a set of values, and effectively picks the biggest one, so, for example, if the output of the last layer looks like [0.1, 0.1, 0.05, 0.1, 9.5, 0.1, 0.05, 0.05, 0.05], it saves you from fishing through it looking for the biggest value, and turns it into [0,0,0,0,1,0,0,0,0] -- The goal is to save a lot of coding!"
   ]
  },
  {
   "cell_type": "markdown",
   "metadata": {},
   "source": [
    "### For Example\n",
    "Let's plot these raw values as an image to make it easier to inspect. I can also print out the raw values so we can see what they look like. Here you can see the raw values for the pixel numbers from zero to 255,"
   ]
  },
  {
   "cell_type": "code",
   "execution_count": 32,
   "metadata": {},
   "outputs": [
    {
     "name": "stdout",
     "output_type": "stream",
     "text": [
      "This Image Is Labelled By The Neural Network As 9\n",
      "[[0.00000000e+00 0.00000000e+00 0.00000000e+00 0.00000000e+00\n",
      "  0.00000000e+00 0.00000000e+00 0.00000000e+00 0.00000000e+00\n",
      "  0.00000000e+00 0.00000000e+00 0.00000000e+00 0.00000000e+00\n",
      "  0.00000000e+00 0.00000000e+00 0.00000000e+00 0.00000000e+00\n",
      "  0.00000000e+00 0.00000000e+00 0.00000000e+00 0.00000000e+00\n",
      "  0.00000000e+00 0.00000000e+00 0.00000000e+00 0.00000000e+00\n",
      "  0.00000000e+00 0.00000000e+00 0.00000000e+00 0.00000000e+00]\n",
      " [0.00000000e+00 0.00000000e+00 0.00000000e+00 0.00000000e+00\n",
      "  0.00000000e+00 0.00000000e+00 0.00000000e+00 0.00000000e+00\n",
      "  0.00000000e+00 0.00000000e+00 0.00000000e+00 0.00000000e+00\n",
      "  0.00000000e+00 0.00000000e+00 0.00000000e+00 0.00000000e+00\n",
      "  0.00000000e+00 0.00000000e+00 0.00000000e+00 0.00000000e+00\n",
      "  0.00000000e+00 0.00000000e+00 0.00000000e+00 0.00000000e+00\n",
      "  0.00000000e+00 0.00000000e+00 0.00000000e+00 0.00000000e+00]\n",
      " [0.00000000e+00 0.00000000e+00 0.00000000e+00 0.00000000e+00\n",
      "  0.00000000e+00 0.00000000e+00 0.00000000e+00 0.00000000e+00\n",
      "  0.00000000e+00 0.00000000e+00 0.00000000e+00 0.00000000e+00\n",
      "  0.00000000e+00 0.00000000e+00 0.00000000e+00 0.00000000e+00\n",
      "  0.00000000e+00 0.00000000e+00 0.00000000e+00 0.00000000e+00\n",
      "  0.00000000e+00 0.00000000e+00 0.00000000e+00 0.00000000e+00\n",
      "  0.00000000e+00 0.00000000e+00 0.00000000e+00 0.00000000e+00]\n",
      " [0.00000000e+00 0.00000000e+00 0.00000000e+00 0.00000000e+00\n",
      "  0.00000000e+00 0.00000000e+00 0.00000000e+00 0.00000000e+00\n",
      "  0.00000000e+00 0.00000000e+00 0.00000000e+00 0.00000000e+00\n",
      "  0.00000000e+00 0.00000000e+00 0.00000000e+00 0.00000000e+00\n",
      "  0.00000000e+00 0.00000000e+00 0.00000000e+00 0.00000000e+00\n",
      "  0.00000000e+00 0.00000000e+00 0.00000000e+00 0.00000000e+00\n",
      "  0.00000000e+00 0.00000000e+00 0.00000000e+00 0.00000000e+00]\n",
      " [0.00000000e+00 0.00000000e+00 0.00000000e+00 0.00000000e+00\n",
      "  0.00000000e+00 0.00000000e+00 0.00000000e+00 0.00000000e+00\n",
      "  0.00000000e+00 0.00000000e+00 0.00000000e+00 0.00000000e+00\n",
      "  0.00000000e+00 0.00000000e+00 0.00000000e+00 0.00000000e+00\n",
      "  0.00000000e+00 0.00000000e+00 0.00000000e+00 0.00000000e+00\n",
      "  0.00000000e+00 0.00000000e+00 0.00000000e+00 0.00000000e+00\n",
      "  0.00000000e+00 0.00000000e+00 0.00000000e+00 0.00000000e+00]\n",
      " [0.00000000e+00 0.00000000e+00 0.00000000e+00 0.00000000e+00\n",
      "  0.00000000e+00 0.00000000e+00 0.00000000e+00 0.00000000e+00\n",
      "  0.00000000e+00 0.00000000e+00 0.00000000e+00 0.00000000e+00\n",
      "  0.00000000e+00 0.00000000e+00 0.00000000e+00 0.00000000e+00\n",
      "  1.93933632e-08 4.42263282e-08 6.14911516e-09 0.00000000e+00\n",
      "  0.00000000e+00 0.00000000e+00 0.00000000e+00 0.00000000e+00\n",
      "  0.00000000e+00 0.00000000e+00 0.00000000e+00 0.00000000e+00]\n",
      " [0.00000000e+00 0.00000000e+00 0.00000000e+00 0.00000000e+00\n",
      "  0.00000000e+00 0.00000000e+00 0.00000000e+00 0.00000000e+00\n",
      "  0.00000000e+00 2.36504429e-10 0.00000000e+00 0.00000000e+00\n",
      "  2.36504429e-10 0.00000000e+00 0.00000000e+00 4.23342928e-08\n",
      "  5.67610630e-08 5.60515497e-08 6.03086294e-08 5.67610630e-08\n",
      "  3.28741156e-08 1.96298676e-08 1.51362835e-08 1.01696904e-08\n",
      "  1.41902657e-08 1.27712392e-08 0.00000000e+00 2.36504429e-10]\n",
      " [0.00000000e+00 0.00000000e+00 0.00000000e+00 0.00000000e+00\n",
      "  0.00000000e+00 0.00000000e+00 0.00000000e+00 0.00000000e+00\n",
      "  0.00000000e+00 2.36504429e-10 0.00000000e+00 0.00000000e+00\n",
      "  2.36504429e-10 0.00000000e+00 1.37172569e-08 5.65245585e-08\n",
      "  5.25039833e-08 5.53420364e-08 5.62880541e-08 5.81800895e-08\n",
      "  5.95991161e-08 6.00721250e-08 6.03086294e-08 5.86530984e-08\n",
      "  6.03086294e-08 4.42263282e-08 0.00000000e+00 0.00000000e+00]\n",
      " [0.00000000e+00 0.00000000e+00 0.00000000e+00 0.00000000e+00\n",
      "  0.00000000e+00 0.00000000e+00 0.00000000e+00 0.00000000e+00\n",
      "  0.00000000e+00 0.00000000e+00 4.73008858e-10 7.09513287e-10\n",
      "  0.00000000e+00 0.00000000e+00 4.58818592e-08 5.65245585e-08\n",
      "  5.34500010e-08 5.60515497e-08 5.55785408e-08 5.48690275e-08\n",
      "  5.43960187e-08 5.53420364e-08 5.53420364e-08 5.51055320e-08\n",
      "  5.88896028e-08 4.04422574e-08 0.00000000e+00 0.00000000e+00]\n",
      " [0.00000000e+00 0.00000000e+00 0.00000000e+00 0.00000000e+00\n",
      "  0.00000000e+00 0.00000000e+00 0.00000000e+00 0.00000000e+00\n",
      "  0.00000000e+00 2.36504429e-10 2.36504429e-10 0.00000000e+00\n",
      "  0.00000000e+00 2.36504429e-09 6.03086294e-08 5.34500010e-08\n",
      "  5.72340718e-08 5.65245585e-08 5.62880541e-08 5.65245585e-08\n",
      "  5.67610630e-08 5.65245585e-08 5.72340718e-08 5.62880541e-08\n",
      "  5.86530984e-08 4.54088504e-08 0.00000000e+00 0.00000000e+00]\n",
      " [0.00000000e+00 0.00000000e+00 0.00000000e+00 0.00000000e+00\n",
      "  0.00000000e+00 0.00000000e+00 0.00000000e+00 0.00000000e+00\n",
      "  0.00000000e+00 0.00000000e+00 0.00000000e+00 0.00000000e+00\n",
      "  0.00000000e+00 4.06787618e-08 5.79435851e-08 5.41595143e-08\n",
      "  5.67610630e-08 5.69975674e-08 5.67610630e-08 5.69975674e-08\n",
      "  5.74705763e-08 5.74705763e-08 5.69975674e-08 5.36865054e-08\n",
      "  5.91261073e-08 4.94294257e-08 0.00000000e+00 0.00000000e+00]\n",
      " [0.00000000e+00 0.00000000e+00 0.00000000e+00 0.00000000e+00\n",
      "  0.00000000e+00 0.00000000e+00 0.00000000e+00 0.00000000e+00\n",
      "  0.00000000e+00 1.41902657e-09 1.18252215e-09 0.00000000e+00\n",
      "  1.46632746e-08 6.03086294e-08 5.43960187e-08 5.58150453e-08\n",
      "  5.65245585e-08 5.69975674e-08 5.72340718e-08 5.69975674e-08\n",
      "  5.72340718e-08 5.72340718e-08 5.62880541e-08 5.62880541e-08\n",
      "  5.72340718e-08 5.98356206e-08 0.00000000e+00 0.00000000e+00]\n",
      " [0.00000000e+00 0.00000000e+00 0.00000000e+00 0.00000000e+00\n",
      "  0.00000000e+00 0.00000000e+00 0.00000000e+00 0.00000000e+00\n",
      "  0.00000000e+00 7.09513287e-10 0.00000000e+00 0.00000000e+00\n",
      "  6.03086294e-08 5.55785408e-08 5.39230098e-08 5.77070807e-08\n",
      "  5.69975674e-08 5.69975674e-08 5.77070807e-08 5.74705763e-08\n",
      "  5.74705763e-08 5.77070807e-08 5.74705763e-08 5.65245585e-08\n",
      "  5.55785408e-08 6.03086294e-08 5.20309744e-09 0.00000000e+00]\n",
      " [0.00000000e+00 0.00000000e+00 0.00000000e+00 0.00000000e+00\n",
      "  0.00000000e+00 0.00000000e+00 0.00000000e+00 0.00000000e+00\n",
      "  0.00000000e+00 0.00000000e+00 0.00000000e+00 5.81800895e-08\n",
      "  5.39230098e-08 5.20309744e-08 5.79435851e-08 5.74705763e-08\n",
      "  5.60515497e-08 5.69975674e-08 5.72340718e-08 5.72340718e-08\n",
      "  5.72340718e-08 5.74705763e-08 5.65245585e-08 5.60515497e-08\n",
      "  5.55785408e-08 5.98356206e-08 2.50694695e-08 0.00000000e+00]\n",
      " [0.00000000e+00 0.00000000e+00 7.09513287e-10 9.46017716e-10\n",
      "  9.46017716e-10 4.73008858e-10 2.36504429e-10 0.00000000e+00\n",
      "  0.00000000e+00 4.25707972e-09 5.74705763e-08 5.39230098e-08\n",
      "  5.46325231e-08 5.69975674e-08 5.74705763e-08 5.60515497e-08\n",
      "  5.62880541e-08 5.72340718e-08 5.69975674e-08 5.67610630e-08\n",
      "  5.67610630e-08 5.67610630e-08 5.55785408e-08 5.60515497e-08\n",
      "  5.58150453e-08 5.81800895e-08 5.53420364e-08 0.00000000e+00]\n",
      " [2.36504429e-10 0.00000000e+00 0.00000000e+00 0.00000000e+00\n",
      "  0.00000000e+00 0.00000000e+00 0.00000000e+00 0.00000000e+00\n",
      "  5.20309744e-09 6.03086294e-08 5.62880541e-08 5.36865054e-08\n",
      "  5.62880541e-08 5.65245585e-08 5.60515497e-08 5.69975674e-08\n",
      "  5.69975674e-08 5.60515497e-08 5.58150453e-08 5.62880541e-08\n",
      "  5.65245585e-08 5.65245585e-08 5.65245585e-08 5.65245585e-08\n",
      "  5.65245585e-08 5.60515497e-08 6.03086294e-08 0.00000000e+00]\n",
      " [0.00000000e+00 0.00000000e+00 0.00000000e+00 0.00000000e+00\n",
      "  0.00000000e+00 5.91261073e-09 1.96298676e-08 3.97327441e-08\n",
      "  6.03086294e-08 5.32134965e-08 5.32134965e-08 5.55785408e-08\n",
      "  5.39230098e-08 5.43960187e-08 5.36865054e-08 5.32134965e-08\n",
      "  5.36865054e-08 5.46325231e-08 5.48690275e-08 5.60515497e-08\n",
      "  5.67610630e-08 5.58150453e-08 5.62880541e-08 5.65245585e-08\n",
      "  5.65245585e-08 5.55785408e-08 5.93626117e-08 1.46632746e-08]\n",
      " [0.00000000e+00 3.90232308e-08 5.32134965e-08 5.20309744e-08\n",
      "  5.29769921e-08 6.03086294e-08 6.03086294e-08 5.51055320e-08\n",
      "  5.41595143e-08 5.27404877e-08 5.36865054e-08 5.39230098e-08\n",
      "  5.46325231e-08 5.48690275e-08 5.55785408e-08 5.60515497e-08\n",
      "  5.51055320e-08 5.43960187e-08 5.39230098e-08 5.43960187e-08\n",
      "  5.51055320e-08 5.48690275e-08 5.55785408e-08 5.51055320e-08\n",
      "  5.53420364e-08 5.55785408e-08 6.03086294e-08 1.37172569e-08]\n",
      " [1.22982303e-08 5.93626117e-08 5.22674788e-08 5.34500010e-08\n",
      "  5.36865054e-08 5.32134965e-08 5.32134965e-08 5.32134965e-08\n",
      "  5.34500010e-08 5.34500010e-08 5.32134965e-08 5.36865054e-08\n",
      "  5.46325231e-08 5.41595143e-08 5.48690275e-08 5.65245585e-08\n",
      "  5.79435851e-08 5.91261073e-08 5.93626117e-08 5.95991161e-08\n",
      "  6.00721250e-08 6.00721250e-08 5.95991161e-08 6.00721250e-08\n",
      "  5.95991161e-08 5.55785408e-08 6.03086294e-08 0.00000000e+00]\n",
      " [7.33163730e-09 4.91929212e-08 5.43960187e-08 5.51055320e-08\n",
      "  5.51055320e-08 5.60515497e-08 5.58150453e-08 5.58150453e-08\n",
      "  5.69975674e-08 5.55785408e-08 5.69975674e-08 5.84165940e-08\n",
      "  5.93626117e-08 6.00721250e-08 5.72340718e-08 5.58150453e-08\n",
      "  5.51055320e-08 5.36865054e-08 5.17944700e-08 4.77738947e-08\n",
      "  4.56453548e-08 4.46993371e-08 4.39898238e-08 4.28073017e-08\n",
      "  4.04422574e-08 3.90232308e-08 4.49358415e-08 9.93318602e-09]\n",
      " [1.82108410e-08 4.70643814e-08 4.06787618e-08 4.44628327e-08\n",
      "  4.70643814e-08 4.77738947e-08 5.15579655e-08 5.17944700e-08\n",
      "  5.20309744e-08 5.41595143e-08 5.53420364e-08 5.25039833e-08\n",
      "  5.03754434e-08 4.94294257e-08 4.89564168e-08 4.96659301e-08\n",
      "  4.80103991e-08 4.35168149e-08 3.59486732e-08 4.04422574e-08\n",
      "  3.90232308e-08 3.83137175e-08 3.83137175e-08 3.94962397e-08\n",
      "  3.97327441e-08 3.71311954e-08 4.54088504e-08 1.84473455e-08]\n",
      " [0.00000000e+00 1.06426993e-08 2.38869473e-08 3.31106201e-08\n",
      "  3.76042042e-08 4.11517707e-08 4.30438061e-08 4.39898238e-08\n",
      "  4.37533194e-08 4.44628327e-08 4.61183637e-08 4.65913725e-08\n",
      "  4.44628327e-08 4.13882751e-08 3.14550891e-08 1.65553100e-08\n",
      "  4.49358415e-09 0.00000000e+00 0.00000000e+00 4.94294257e-08\n",
      "  5.46325231e-08 5.15579655e-08 5.25039833e-08 5.29769921e-08\n",
      "  5.36865054e-08 5.13214611e-08 5.41595143e-08 2.19949119e-08]\n",
      " [0.00000000e+00 0.00000000e+00 0.00000000e+00 0.00000000e+00\n",
      "  0.00000000e+00 0.00000000e+00 4.73008858e-10 5.67610630e-09\n",
      "  8.75066388e-09 1.06426993e-08 7.56814173e-09 4.25707972e-09\n",
      "  2.60154872e-09 0.00000000e+00 0.00000000e+00 0.00000000e+00\n",
      "  0.00000000e+00 0.00000000e+00 0.00000000e+00 1.70283189e-08\n",
      "  1.20617259e-08 1.25347347e-08 8.75066388e-09 8.04115059e-09\n",
      "  6.85862844e-09 7.33163730e-09 1.18252215e-09 0.00000000e+00]\n",
      " [0.00000000e+00 0.00000000e+00 0.00000000e+00 0.00000000e+00\n",
      "  0.00000000e+00 0.00000000e+00 0.00000000e+00 0.00000000e+00\n",
      "  0.00000000e+00 0.00000000e+00 0.00000000e+00 0.00000000e+00\n",
      "  0.00000000e+00 0.00000000e+00 0.00000000e+00 0.00000000e+00\n",
      "  0.00000000e+00 0.00000000e+00 0.00000000e+00 0.00000000e+00\n",
      "  0.00000000e+00 0.00000000e+00 0.00000000e+00 0.00000000e+00\n",
      "  0.00000000e+00 0.00000000e+00 0.00000000e+00 0.00000000e+00]\n",
      " [0.00000000e+00 0.00000000e+00 0.00000000e+00 0.00000000e+00\n",
      "  0.00000000e+00 0.00000000e+00 0.00000000e+00 0.00000000e+00\n",
      "  0.00000000e+00 0.00000000e+00 0.00000000e+00 0.00000000e+00\n",
      "  0.00000000e+00 0.00000000e+00 0.00000000e+00 0.00000000e+00\n",
      "  0.00000000e+00 0.00000000e+00 0.00000000e+00 0.00000000e+00\n",
      "  0.00000000e+00 0.00000000e+00 0.00000000e+00 0.00000000e+00\n",
      "  0.00000000e+00 0.00000000e+00 0.00000000e+00 0.00000000e+00]\n",
      " [0.00000000e+00 0.00000000e+00 0.00000000e+00 0.00000000e+00\n",
      "  0.00000000e+00 0.00000000e+00 0.00000000e+00 0.00000000e+00\n",
      "  0.00000000e+00 0.00000000e+00 0.00000000e+00 0.00000000e+00\n",
      "  0.00000000e+00 0.00000000e+00 0.00000000e+00 0.00000000e+00\n",
      "  0.00000000e+00 0.00000000e+00 0.00000000e+00 0.00000000e+00\n",
      "  0.00000000e+00 0.00000000e+00 0.00000000e+00 0.00000000e+00\n",
      "  0.00000000e+00 0.00000000e+00 0.00000000e+00 0.00000000e+00]\n",
      " [0.00000000e+00 0.00000000e+00 0.00000000e+00 0.00000000e+00\n",
      "  0.00000000e+00 0.00000000e+00 0.00000000e+00 0.00000000e+00\n",
      "  0.00000000e+00 0.00000000e+00 0.00000000e+00 0.00000000e+00\n",
      "  0.00000000e+00 0.00000000e+00 0.00000000e+00 0.00000000e+00\n",
      "  0.00000000e+00 0.00000000e+00 0.00000000e+00 0.00000000e+00\n",
      "  0.00000000e+00 0.00000000e+00 0.00000000e+00 0.00000000e+00\n",
      "  0.00000000e+00 0.00000000e+00 0.00000000e+00 0.00000000e+00]\n",
      " [0.00000000e+00 0.00000000e+00 0.00000000e+00 0.00000000e+00\n",
      "  0.00000000e+00 0.00000000e+00 0.00000000e+00 0.00000000e+00\n",
      "  0.00000000e+00 0.00000000e+00 0.00000000e+00 0.00000000e+00\n",
      "  0.00000000e+00 0.00000000e+00 0.00000000e+00 0.00000000e+00\n",
      "  0.00000000e+00 0.00000000e+00 0.00000000e+00 0.00000000e+00\n",
      "  0.00000000e+00 0.00000000e+00 0.00000000e+00 0.00000000e+00\n",
      "  0.00000000e+00 0.00000000e+00 0.00000000e+00 0.00000000e+00]]\n"
     ]
    },
    {
     "data": {
      "image/png": "[encoded data removed]",
      "text/plain": [
       "<Figure size 432x288 with 1 Axes>"
      ]
     },
     "metadata": {
      "needs_background": "light"
     },
     "output_type": "display_data"
    }
   ],
   "source": [
    "import matplotlib.pyplot as plt\n",
    "plt.imshow(train_images[42])\n",
    "print('This Image Is Labelled By The Neural Network As ' + str(train_labels[42]))\n",
    "print(train_images[42])"
   ]
  },
  {
   "cell_type": "markdown",
   "metadata": {},
   "source": [
    "Look how the plotted values above are actually forming a rough shape of the ankle boot.\n",
    "\n",
    "Now, Our image has values from zero to 255, but <b>neural networks work better with normalized data</b>. So, let's change it to between zero and one simply by dividing every value by 255. In Python, you can actually divide an entire array with one line of code like this."
   ]
  },
  {
   "cell_type": "code",
   "execution_count": 33,
   "metadata": {},
   "outputs": [],
   "source": [
    "train_images = train_images / 255.0\n",
    "test_images = test_images /255.0"
   ]
  },
  {
   "cell_type": "code",
   "execution_count": 35,
   "metadata": {},
   "outputs": [
    {
     "name": "stdout",
     "output_type": "stream",
     "text": [
      "Epoch 1/5\n",
      "60000/60000 [==============================] - 4s 63us/sample - loss: 2.3028 - accuracy: 0.0979\n",
      "Epoch 2/5\n",
      "60000/60000 [==============================] - 4s 61us/sample - loss: 2.3028 - accuracy: 0.0973\n",
      "Epoch 3/5\n",
      "60000/60000 [==============================] - 4s 61us/sample - loss: 2.3028 - accuracy: 0.0963\n",
      "Epoch 4/5\n",
      "60000/60000 [==============================] - 4s 75us/sample - loss: 2.3027 - accuracy: 0.1000\n",
      "Epoch 5/5\n",
      "60000/60000 [==============================] - 4s 72us/sample - loss: 2.3028 - accuracy: 0.0985\n"
     ]
    },
    {
     "data": {
      "text/plain": [
       "<tensorflow.python.keras.callbacks.History at 0x17baef5f308>"
      ]
     },
     "execution_count": 35,
     "metadata": {},
     "output_type": "execute_result"
    }
   ],
   "source": [
    "model.compile(optimizer = tf.optimizers.Adam(),\n",
    "              loss = 'sparse_categorical_crossentropy',\n",
    "              metrics=['accuracy'])\n",
    "\n",
    "model.fit(train_images, train_labels, epochs=5)"
   ]
  },
  {
   "cell_type": "code",
   "execution_count": null,
   "metadata": {},
   "outputs": [],
   "source": []
  }
 ],
 "metadata": {
  "kernelspec": {
   "display_name": "Python 3",
   "language": "python",
   "name": "python3"
  },
  "language_info": {
   "codemirror_mode": {
    "name": "ipython",
    "version": 3
   },
   "file_extension": ".py",
   "mimetype": "text/x-python",
   "name": "python",
   "nbconvert_exporter": "python",
   "pygments_lexer": "ipython3",
   "version": "3.7.6"
  }
 },
 "nbformat": 4,
 "nbformat_minor": 4
}
