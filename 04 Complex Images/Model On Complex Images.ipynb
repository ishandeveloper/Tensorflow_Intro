{
 "cells": [
  {
   "cell_type": "markdown",
   "metadata": {},
   "source": [
    "## Dealing with Complex Images (Self-Defined Datasets)\n",
    "\n",
    "#### Author : ishandeveloper\n",
    "\n",
    "In previous examples we built an image classifier that worked using a deep neural network and saw how to improve its performance by adding convolutions. One limitation though was that it used a dataset of very uniform images. Images of clothing that was staged and framed in 28 by 28. \n",
    "\n",
    "But what happens when we use larger images and where the feature might be in different locations? For example, how about a few images of horses and humans? They have different sizes and different aspect ratios. The subject can be in different locations. In some cases, there may even be multiple subjects. In addition to that, the earlier examples with a fashion data used a built-in dataset. All of the data was handily split into training and test sets for us and labels were available. In many scenarios, that's not going to be the case and we'll have to do it for yourself.\n",
    "\n",
    "So, To make it easier for us we'll use Tensorflow APIs and Take a look at the <br>\n",
    "### <b>Image generator in TensorFlow</b>\n",
    "\n",
    "Let's Jump right into the code to see it in action."
   ]
  },
  {
   "cell_type": "markdown",
   "metadata": {},
   "source": [
    "Getting Dependencies"
   ]
  },
  {
   "cell_type": "code",
   "execution_count": 1,
   "metadata": {},
   "outputs": [],
   "source": [
    "import tensorflow\n",
    "from tensorflow import keras\n",
    "import numpy"
   ]
  },
  {
   "cell_type": "markdown",
   "metadata": {},
   "source": [
    "First of all, we have to import the <b>ImageDataGenerator</b> from tensorflow library"
   ]
  },
  {
   "cell_type": "code",
   "execution_count": 3,
   "metadata": {},
   "outputs": [],
   "source": [
    "from tensorflow.keras.preprocessing.image import ImageDataGenerator"
   ]
  },
  {
   "cell_type": "markdown",
   "metadata": {},
   "source": [
    "We can then instantiate an image generator like this and pass rescale to it to normalize the data. We can then call the flow from directory method on it to get it to load images from that directory and its sub-directories.\n",
    "\n",
    "The nice thing about this code is that the <b>images are resized</b> for you as they're loaded. So you don't need to preprocess thousands of images on your file system.The images will be loaded for training and validation in <b>batches</b> where it's more efficient than doing it one by one.Finally, there's the class mode. \n",
    "\n",
    "Now, this is a <b>binary classifier</b> i.e. it picks between two different things;."
   ]
  },
  {
   "cell_type": "code",
   "execution_count": 4,
   "metadata": {},
   "outputs": [],
   "source": [
    "train_datagen = ImageDataGenerator(rescale=1./255)\n",
    "\n",
    "train_generator = train_datagen.flow_from_directory(\n",
    "                train_dir,\n",
    "                target_size=(300,300),\n",
    "                batch_size=128,\n",
    "                class_mode='binary' )"
   ]
  },
  {
   "cell_type": "markdown",
   "metadata": {},
   "source": [
    "Doing the same steps for the test data"
   ]
  },
  {
   "cell_type": "code",
   "execution_count": null,
   "metadata": {},
   "outputs": [],
   "source": [
    "test_datagen = ImageDataGenerator(rescale=1./255)\n",
    "\n",
    "validation_generator = test_datagen.flow_from_directory(\n",
    "                validation_dir,\n",
    "                target_size=(300,300),\n",
    "                batch_size=128,\n",
    "                class_mode='binary' )"
   ]
  }
 ],
 "metadata": {
  "kernelspec": {
   "display_name": "Python 3",
   "language": "python",
   "name": "python3"
  },
  "language_info": {
   "codemirror_mode": {
    "name": "ipython",
    "version": 3
   },
   "file_extension": ".py",
   "mimetype": "text/x-python",
   "name": "python",
   "nbconvert_exporter": "python",
   "pygments_lexer": "ipython3",
   "version": "3.7.6"
  }
 },
 "nbformat": 4,
 "nbformat_minor": 4
}
